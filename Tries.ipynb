{
 "cells": [
  {
   "cell_type": "code",
   "execution_count": 1,
   "metadata": {},
   "outputs": [],
   "source": [
    "class TrieNode:\n",
    "    \"\"\"A node in the trie structure\"\"\"\n",
    "\n",
    "    def __init__(self, char):\n",
    "        # the character stored in this node\n",
    "        self.char = char\n",
    "\n",
    "        # whether this can be the end of a word\n",
    "        self.is_end = False\n",
    "\n",
    "        # a counter indicating how many times a word is inserted\n",
    "        # (if this node's is_end is True)\n",
    "        self.counter = 0\n",
    "\n",
    "        # a dictionary of child nodes\n",
    "        # keys are characters, values are nodes\n",
    "        self.children = {}"
   ]
  },
  {
   "cell_type": "code",
   "execution_count": 7,
   "metadata": {},
   "outputs": [],
   "source": [
    "class Trie:\n",
    "    \"\"\"The trie object\"\"\"\n",
    "\n",
    "    def __init__(self):\n",
    "        \"\"\"\n",
    "        The trie has at least the root node.\n",
    "        The root node does not store any character\n",
    "        \"\"\"\n",
    "        self.root = TrieNode(\"\")\n",
    "    \n",
    "    def insert(self, word):\n",
    "        \"\"\"Insert a word into the trie\"\"\"\n",
    "        node = self.root\n",
    "        \n",
    "        # Loop through each character in the word\n",
    "        # Check if there is no child containing the character, create a new child for the current node\n",
    "        for char in word:\n",
    "            if char in node.children:\n",
    "                node = node.children[char]\n",
    "            else:\n",
    "                # If a character is not found,\n",
    "                # create a new node in the trie\n",
    "                new_node = TrieNode(char)\n",
    "                node.children[char] = new_node\n",
    "                node = new_node\n",
    "        \n",
    "        # Mark the end of a word\n",
    "        node.is_end = True\n",
    "\n",
    "        # Increment the counter to indicate that we see this word once more\n",
    "        node.counter += 1\n",
    "        \n",
    "    def dfs(self, node, prefix):\n",
    "        \"\"\"Depth-first traversal of the trie\n",
    "        \n",
    "        Args:\n",
    "            - node: the node to start with\n",
    "            - prefix: the current prefix, for tracing a\n",
    "                word while traversing the trie\n",
    "        \"\"\"\n",
    "        if node.is_end:\n",
    "            self.output.append((prefix + node.char, node.counter))\n",
    "        \n",
    "        for child in node.children.values():\n",
    "            self.dfs(child, prefix + node.char)\n",
    "        \n",
    "    def query(self, x):\n",
    "        \"\"\"Given an input (a prefix), retrieve all words stored in\n",
    "        the trie with that prefix, sort the words by the number of \n",
    "        times they have been inserted\n",
    "        \"\"\"\n",
    "        # Use a variable within the class to keep all possible outputs\n",
    "        # As there can be more than one word with such prefix\n",
    "        self.output = []\n",
    "        node = self.root\n",
    "        \n",
    "        # Check if the prefix is in the trie\n",
    "        for char in x:\n",
    "            if char in node.children:\n",
    "                node = node.children[char]\n",
    "            else:\n",
    "                # cannot found the prefix, return empty list\n",
    "                return []\n",
    "        \n",
    "        # Traverse the trie to get all candidates\n",
    "        self.dfs(node, x[:-1])\n",
    "\n",
    "        # Sort the results in reverse order and return\n",
    "        return sorted(self.output, key=lambda x: x[1], reverse=True)"
   ]
  },
  {
   "cell_type": "code",
   "execution_count": 9,
   "metadata": {},
   "outputs": [
    {
     "data": {
      "text/plain": [
       "[('wheret', 2), ('what', 1), ('where', 1)]"
      ]
     },
     "execution_count": 9,
     "metadata": {},
     "output_type": "execute_result"
    }
   ],
   "source": [
    "t = Trie()\n",
    "t.insert(\"was\")\n",
    "t.insert(\"word\")\n",
    "t.insert(\"war\")\n",
    "t.insert(\"what\")\n",
    "t.insert(\"where\")\n",
    "t.insert(\"wheret\")\n",
    "t.insert(\"wheret\")\n",
    "t.query(\"wh\")\n",
    "# [('what', 1), ('where', 1)]"
   ]
  },
  {
   "cell_type": "code",
   "execution_count": null,
   "metadata": {},
   "outputs": [],
   "source": []
  }
 ],
 "metadata": {
  "kernelspec": {
   "display_name": "Python 3",
   "language": "python",
   "name": "python3"
  },
  "language_info": {
   "codemirror_mode": {
    "name": "ipython",
    "version": 3
   },
   "file_extension": ".py",
   "mimetype": "text/x-python",
   "name": "python",
   "nbconvert_exporter": "python",
   "pygments_lexer": "ipython3",
   "version": "3.8.5"
  }
 },
 "nbformat": 4,
 "nbformat_minor": 4
}
